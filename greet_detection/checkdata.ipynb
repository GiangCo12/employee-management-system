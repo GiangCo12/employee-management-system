{
 "cells": [
  {
   "cell_type": "code",
   "execution_count": null,
   "metadata": {},
   "outputs": [
    {
     "data": {
      "image/png": "[encoded data removed]",
      "text/plain": [
       "<Figure size 1000x400 with 1 Axes>"
      ]
     },
     "metadata": {},
     "output_type": "display_data"
    }
   ],
   "source": [
    "import matplotlib.pyplot as plt\n",
    "import os\n",
    "import json\n",
    "\n",
    "\n",
    "def read_all_lines_from_directory(directory):\n",
    "    all_lines = []\n",
    "    for filename in os.listdir(directory):\n",
    "        if filename.endswith(\".txt\"):\n",
    "            file_path = os.path.join(directory, filename)\n",
    "            with open(file_path, 'r') as file:\n",
    "                all_lines.append(file.read())\n",
    "    return \"\\n\".join(all_lines)\n",
    "\n",
    "def create_image(filename, context):\n",
    "    # Prepare context\n",
    "    context_parts = context.split('_')\n",
    "    lines = [item for sublist in context_parts for item in sublist.split()]\n",
    "    num_labels = len([x for x in lines if x.isdigit()])\n",
    "    x_coordinates = [i if i.isdigit() else 0 for i in lines]\n",
    "    y_coordinates = [0 if i == 'Train' else num_labels if i == 'Val' else None for i in lines]\n",
    "\n",
    "    # Create a new figure\n",
    "    plt.figure(figsize=(10, 4))\n",
    "    plt.axes().set_aspect('equal')\n",
    "\n",
    "    # Plot context elements\n",
    "    for i, x in enumerate(x_coordinates):\n",
    "        if y_coordinates[i] is not None:\n",
    "            plt.text(x, y_coordinates[i], lines[i], ha='center', fontsize=20, fontweight='bold')\n",
    "        else:\n",
    "            plt.axvspan(x - 100, x + 100, ymin=0, ymax=num_labels, alpha=0.1)\n",
    "\n",
    "    # Save and show the image\n",
    "    plt.savefig(filename)\n",
    "    plt.show()\n",
    "    \n",
    "    \n",
    "def read_coco_annotations(file_path):\n",
    "    with open(file_path, 'r') as file:\n",
    "        data = json.load(file)\n",
    "    return data\n",
    "\n",
    "def create_train_valid_sets(data_directory):\n",
    "    train_data_path = os.path.join(data_directory, \"test/_annotations.coco.json\")\n",
    "    valid_data_path = os.path.join(data_directory, \"valid/_annotations.coco.json\")\n",
    "\n",
    "    train_data = read_coco_annotations(train_data_path)\n",
    "    valid_data = read_coco_annotations(valid_data_path)\n",
    "\n",
    "    return train_data, valid_data\n",
    "\n",
    "# Load data from the file\n",
    "data_directory = \"test/_annotations.coco.json\"\n",
    "data = read_all_lines_from_directory(data_directory)\n",
    "\n",
    "# Create the image\n",
    "create_image(\"review_image.png\", data)\n"
   ]
  },
  {
   "cell_type": "code",
   "execution_count": null,
   "metadata": {},
   "outputs": [],
   "source": []
  }
 ],
 "metadata": {
  "kernelspec": {
   "display_name": "base",
   "language": "python",
   "name": "python3"
  },
  "language_info": {
   "codemirror_mode": {
    "name": "ipython",
    "version": 3
   },
   "file_extension": ".py",
   "mimetype": "text/x-python",
   "name": "python",
   "nbconvert_exporter": "python",
   "pygments_lexer": "ipython3",
   "version": "3.11.5"
  },
  "orig_nbformat": 4
 },
 "nbformat": 4,
 "nbformat_minor": 2
}
